{
 "cells": [
  {
   "cell_type": "code",
   "execution_count": 1,
   "metadata": {},
   "outputs": [],
   "source": [
    "import warnings\n",
    "warnings.simplefilter(action='ignore', category=FutureWarning)\n",
    "import time\n",
    "import numpy as np\n",
    "import pandas as pd\n",
    "from pandas import Series,DataFrame\n",
    "import seaborn as sns\n",
    "sns.set_style('whitegrid')\n",
    "import matplotlib.pyplot as plt\n",
    "%matplotlib inline\n"
   ]
  },
  {
   "cell_type": "code",
   "execution_count": 2,
   "metadata": {},
   "outputs": [
    {
     "name": "stderr",
     "output_type": "stream",
     "text": [
      "C:\\Users\\USER\\Anaconda3\\lib\\site-packages\\IPython\\core\\interactiveshell.py:2785: DtypeWarning: Columns (3,6) have mixed types. Specify dtype option on import or set low_memory=False.\n",
      "  interactivity=interactivity, compiler=compiler, result=result)\n"
     ]
    }
   ],
   "source": [
    "# 加载ad_static_feature和ad_operation数据\n",
    "ad_static_feature_df = pd.read_csv('ad_static_feature.csv')\n",
    "ad_operation_df = pd.read_csv('ad_operation.csv')\n",
    "#ad_static_feature_df.info()"
   ]
  },
  {
   "cell_type": "code",
   "execution_count": null,
   "metadata": {},
   "outputs": [],
   "source": [
    "f = open(r'testA/totalExposureLog.out')\n",
    "feature_names = ['Ad_Request_id', 'Ad_Request_Time', 'Ad_pos_id', 'user_id', 'ad_id', \n",
    "                 'Ad_material_size','Ad_bid', 'Ad_pctr', 'Ad_quality_ecpm', 'Ad_total_Ecpm']\n",
    "\n",
    "totalExpLog = pd.read_csv(f, sep='\\t',names=feature_names,engine = 'python',iterator=True)\n",
    "loop = True\n",
    "chunkSize = 1000000\n",
    "chunks = []\n",
    "index=0\n",
    "while loop:\n",
    "    try:\n",
    "        # 分批处理\n",
    "        chunk = totalExpLog.get_chunk(chunkSize)\n",
    "        # 添加年月日特征\n",
    "        chunk['year'] =chunk['Ad_Request_Time'].apply(lambda x: time.localtime(x).tm_year)\n",
    "        chunk['month'] = chunk['Ad_Request_Time'].apply(lambda x: time.localtime(x).tm_mon)\n",
    "        chunk['day'] =chunk['Ad_Request_Time'].apply(lambda x: time.localtime(x).tm_mday)\n",
    "        # 时间戳转化为时间\n",
    "        chunk['Ad_Request_Time'] = chunk['Ad_Request_Time'].apply(lambda x:time.strftime(\"%Y-%m-%d %H:%M:%S\",time.localtime(x))) \n",
    "        \n",
    "        # 清洗exposure_log数据\n",
    "        # 删除不合理时间\n",
    "        chunk = chunk[~chunk['Ad_Request_Time'].isin(['2019-02-30 00:00:00'])]\n",
    "        chunk = chunk[~chunk['Ad_Request_Time'].isin(['2019-02-29 00:00:00'])]\n",
    "        # 删除空数据\n",
    "        chunk = chunk.dropna()\n",
    "        # 删除广告位id出现的多值数据\n",
    "        chunk = chunk[~chunk['Ad_pos_id'].isin([','])]\n",
    "        # 清洗掉在ad_static_feature中不存在的广告id\n",
    "        chunk = pd.merge(chunk,ad_static_feature_df.loc[:,['ad_id']],how='inner',on='ad_id')\n",
    "        # 清洗掉在ad_operation中不存在的广告id\n",
    "        chunk = pd.merge(chunk,ad_operation_df.loc[:,['ad_id']],how='inner',on='ad_id')\n",
    "        # 去重\n",
    "        chunk = chunk.drop_duplicates(keep='first', inplace=False)\n",
    "        # 重置索引\n",
    "        chunk = chunk.reset_index(drop=True)\n",
    "        chunks.append(chunk)\n",
    "        index+=1\n",
    "\n",
    "    except StopIteration:\n",
    "        loop = False\n",
    "        print(\"Iteration is stopped.\")\n",
    "print('开始合并')\n",
    "totalExpLog = pd.concat(chunks, ignore_index= True)\n",
    "print('合并结束')\n",
    "# 去重\n",
    "totalExpLog = totalExpLog.drop_duplicates([\"Ad_Request_id\",\"Ad_Request_Time\",\"Ad_pos_id\",\n",
    "                                          \"user_id\",\"ad_id\",\"Ad_material_size\"],\n",
    "                                          keep='first', inplace=False).reset_index(drop=True)\n",
    "#totalExpLog.info()\n",
    "totalExpLog.to_csv('totalExpLog.csv', index=False)"
   ]
  },
  {
   "cell_type": "code",
   "execution_count": null,
   "metadata": {},
   "outputs": [],
   "source": []
  }
 ],
 "metadata": {
  "kernelspec": {
   "display_name": "Python 3",
   "language": "python",
   "name": "python3"
  },
  "language_info": {
   "codemirror_mode": {
    "name": "ipython",
    "version": 3
   },
   "file_extension": ".py",
   "mimetype": "text/x-python",
   "name": "python",
   "nbconvert_exporter": "python",
   "pygments_lexer": "ipython3",
   "version": "3.6.5"
  }
 },
 "nbformat": 4,
 "nbformat_minor": 2
}
