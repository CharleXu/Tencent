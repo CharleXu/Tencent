{
 "cells": [
  {
   "cell_type": "code",
   "execution_count": null,
   "metadata": {},
   "outputs": [],
   "source": [
    "import pandas as pd\n",
    "import numpy as np\n",
    "from keras import metrics\n",
    "from keras.models import Sequential\n",
    "from keras.layers import Dense\n",
    "from keras.wrappers.scikit_learn import KerasClassifier\n",
    "from sklearn.model_selection import KFold, cross_val_score\n",
    "dataset=pd.read_csv('housing.csv',header=None)\n",
    "X=dataset.iloc[:,0:-1]\n",
    "Y=dataset.iloc[:,-1]\n",
    "# print(Y)\n",
    "seed=7\n",
    "np.random.seed(seed)\n",
    "# 建立模型\n",
    "optimizer='adam'\n",
    "init='normal'\n",
    "model=Sequential()\n",
    "model.add(Dense(units=13,activation='relu',input_dim=13,kernel_initializer=init))\n",
    "#构建更多的隐藏层\n",
    "model.add(Dense(units=10,activation='relu',kernel_initializer=init))\n",
    "model.add(Dense(units=1,kernel_initializer=init)) #输出层不需要进行激活函数,预测回归的话unit=1\n",
    "# 编译模型\n",
    "model.compile(loss='mse',optimizer=optimizer,metrics=['acc'])\n",
    "model.fit(X.values,Y.values,epochs=30,batch_size=64)"
   ]
  }
 ],
 "metadata": {
  "kernelspec": {
   "display_name": "Python 3",
   "language": "python",
   "name": "python3"
  },
  "language_info": {
   "codemirror_mode": {
    "name": "ipython",
    "version": 3
   },
   "file_extension": ".py",
   "mimetype": "text/x-python",
   "name": "python",
   "nbconvert_exporter": "python",
   "pygments_lexer": "ipython3",
   "version": "3.7.0"
  }
 },
 "nbformat": 4,
 "nbformat_minor": 2
}
