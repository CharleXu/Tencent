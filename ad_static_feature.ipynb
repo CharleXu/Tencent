{
 "cells": [
  {
   "cell_type": "code",
   "execution_count": 1,
   "metadata": {},
   "outputs": [],
   "source": [
    "\n",
    "import warnings\n",
    "warnings.simplefilter(action='ignore', category=FutureWarning)\n",
    "import time\n",
    "import numpy as np\n",
    "import pandas as pd\n",
    "from pandas import Series,DataFrame\n",
    "import seaborn as sns\n",
    "sns.set_style('whitegrid')\n",
    "import matplotlib.pyplot as plt\n",
    "%matplotlib inline\n"
   ]
  },
  {
   "cell_type": "code",
   "execution_count": 2,
   "metadata": {},
   "outputs": [
    {
     "name": "stderr",
     "output_type": "stream",
     "text": [
      "C:\\Users\\USER\\Anaconda3\\lib\\site-packages\\IPython\\core\\interactiveshell.py:2785: DtypeWarning: Columns (3,6) have mixed types. Specify dtype option on import or set low_memory=False.\n",
      "  interactivity=interactivity, compiler=compiler, result=result)\n"
     ]
    },
    {
     "data": {
      "text/html": [
       "<div>\n",
       "<style scoped>\n",
       "    .dataframe tbody tr th:only-of-type {\n",
       "        vertical-align: middle;\n",
       "    }\n",
       "\n",
       "    .dataframe tbody tr th {\n",
       "        vertical-align: top;\n",
       "    }\n",
       "\n",
       "    .dataframe thead th {\n",
       "        text-align: right;\n",
       "    }\n",
       "</style>\n",
       "<table border=\"1\" class=\"dataframe\">\n",
       "  <thead>\n",
       "    <tr style=\"text-align: right;\">\n",
       "      <th></th>\n",
       "      <th>ad_id</th>\n",
       "      <th>Creation_time</th>\n",
       "      <th>Ad_account_id</th>\n",
       "      <th>Commodity_id</th>\n",
       "      <th>Commodity_type</th>\n",
       "      <th>Ad_Industry_Id</th>\n",
       "      <th>Ad_material_size</th>\n",
       "    </tr>\n",
       "  </thead>\n",
       "  <tbody>\n",
       "    <tr>\n",
       "      <th>0</th>\n",
       "      <td>106452</td>\n",
       "      <td>1529958950</td>\n",
       "      <td>22226</td>\n",
       "      <td>16088</td>\n",
       "      <td>13</td>\n",
       "      <td>225</td>\n",
       "      <td>NaN</td>\n",
       "    </tr>\n",
       "    <tr>\n",
       "      <th>1</th>\n",
       "      <td>233649</td>\n",
       "      <td>1538221936</td>\n",
       "      <td>25681</td>\n",
       "      <td>7356</td>\n",
       "      <td>13</td>\n",
       "      <td>136</td>\n",
       "      <td>1</td>\n",
       "    </tr>\n",
       "    <tr>\n",
       "      <th>2</th>\n",
       "      <td>547531</td>\n",
       "      <td>1550731020</td>\n",
       "      <td>20696</td>\n",
       "      <td>-1</td>\n",
       "      <td>1</td>\n",
       "      <td>186</td>\n",
       "      <td>40</td>\n",
       "    </tr>\n",
       "    <tr>\n",
       "      <th>3</th>\n",
       "      <td>707841</td>\n",
       "      <td>1551857857</td>\n",
       "      <td>3968</td>\n",
       "      <td>-1</td>\n",
       "      <td>3</td>\n",
       "      <td>186</td>\n",
       "      <td>40</td>\n",
       "    </tr>\n",
       "    <tr>\n",
       "      <th>4</th>\n",
       "      <td>457009</td>\n",
       "      <td>1550439402</td>\n",
       "      <td>23614</td>\n",
       "      <td>7447</td>\n",
       "      <td>13</td>\n",
       "      <td>172</td>\n",
       "      <td>NaN</td>\n",
       "    </tr>\n",
       "  </tbody>\n",
       "</table>\n",
       "</div>"
      ],
      "text/plain": [
       "    ad_id  Creation_time  Ad_account_id Commodity_id  Commodity_type  \\\n",
       "0  106452     1529958950          22226        16088              13   \n",
       "1  233649     1538221936          25681         7356              13   \n",
       "2  547531     1550731020          20696           -1               1   \n",
       "3  707841     1551857857           3968           -1               3   \n",
       "4  457009     1550439402          23614         7447              13   \n",
       "\n",
       "  Ad_Industry_Id Ad_material_size  \n",
       "0            225              NaN  \n",
       "1            136                1  \n",
       "2            186               40  \n",
       "3            186               40  \n",
       "4            172              NaN  "
      ]
     },
     "execution_count": 2,
     "metadata": {},
     "output_type": "execute_result"
    }
   ],
   "source": [
    "# 读取ad_static_feature文件\n",
    "ad_static_feature_cols = ['ad_id', 'Creation_time', 'Ad_account_id', 'Commodity_id', \n",
    "                          'Commodity_type','Ad_Industry_Id', 'Ad_material_size']\n",
    "ad_static_feature = pd.read_table('testA/ad_static_feature.out', sep='\\t', \n",
    "                                     header=None,names=ad_static_feature_cols)\n",
    "ad_static_feature_df = pd.DataFrame(ad_static_feature)\n",
    "ad_static_feature_df.head()"
   ]
  },
  {
   "cell_type": "code",
   "execution_count": 3,
   "metadata": {},
   "outputs": [
    {
     "name": "stdout",
     "output_type": "stream",
     "text": [
      "<class 'pandas.core.frame.DataFrame'>\n",
      "RangeIndex: 735911 entries, 0 to 735910\n",
      "Data columns (total 7 columns):\n",
      "ad_id               735911 non-null int64\n",
      "Creation_time       735911 non-null int64\n",
      "Ad_account_id       735911 non-null int64\n",
      "Commodity_id        735911 non-null object\n",
      "Commodity_type      735911 non-null int64\n",
      "Ad_Industry_Id      735911 non-null object\n",
      "Ad_material_size    509252 non-null object\n",
      "dtypes: int64(4), object(3)\n",
      "memory usage: 39.3+ MB\n"
     ]
    }
   ],
   "source": [
    "ad_static_feature_df.info()"
   ]
  },
  {
   "cell_type": "code",
   "execution_count": 4,
   "metadata": {},
   "outputs": [
    {
     "data": {
      "text/html": [
       "<div>\n",
       "<style scoped>\n",
       "    .dataframe tbody tr th:only-of-type {\n",
       "        vertical-align: middle;\n",
       "    }\n",
       "\n",
       "    .dataframe tbody tr th {\n",
       "        vertical-align: top;\n",
       "    }\n",
       "\n",
       "    .dataframe thead th {\n",
       "        text-align: right;\n",
       "    }\n",
       "</style>\n",
       "<table border=\"1\" class=\"dataframe\">\n",
       "  <thead>\n",
       "    <tr style=\"text-align: right;\">\n",
       "      <th></th>\n",
       "      <th>ad_id</th>\n",
       "      <th>Creation_time</th>\n",
       "      <th>Ad_account_id</th>\n",
       "      <th>Commodity_id</th>\n",
       "      <th>Commodity_type</th>\n",
       "      <th>Ad_Industry_Id</th>\n",
       "      <th>Ad_material_size</th>\n",
       "    </tr>\n",
       "  </thead>\n",
       "  <tbody>\n",
       "    <tr>\n",
       "      <th>0</th>\n",
       "      <td>233649</td>\n",
       "      <td>2018-09-29 19:52:16</td>\n",
       "      <td>25681</td>\n",
       "      <td>7356</td>\n",
       "      <td>13</td>\n",
       "      <td>136</td>\n",
       "      <td>1</td>\n",
       "    </tr>\n",
       "    <tr>\n",
       "      <th>1</th>\n",
       "      <td>547531</td>\n",
       "      <td>2019-02-21 14:37:00</td>\n",
       "      <td>20696</td>\n",
       "      <td>-1</td>\n",
       "      <td>1</td>\n",
       "      <td>186</td>\n",
       "      <td>40</td>\n",
       "    </tr>\n",
       "    <tr>\n",
       "      <th>2</th>\n",
       "      <td>707841</td>\n",
       "      <td>2019-03-06 15:37:37</td>\n",
       "      <td>3968</td>\n",
       "      <td>-1</td>\n",
       "      <td>3</td>\n",
       "      <td>186</td>\n",
       "      <td>40</td>\n",
       "    </tr>\n",
       "    <tr>\n",
       "      <th>3</th>\n",
       "      <td>733436</td>\n",
       "      <td>2019-03-19 14:37:06</td>\n",
       "      <td>22405</td>\n",
       "      <td>31722</td>\n",
       "      <td>5</td>\n",
       "      <td>117</td>\n",
       "      <td>64</td>\n",
       "    </tr>\n",
       "    <tr>\n",
       "      <th>4</th>\n",
       "      <td>249105</td>\n",
       "      <td>2019-03-15 17:23:16</td>\n",
       "      <td>11360</td>\n",
       "      <td>29999</td>\n",
       "      <td>18</td>\n",
       "      <td>145</td>\n",
       "      <td>44</td>\n",
       "    </tr>\n",
       "  </tbody>\n",
       "</table>\n",
       "</div>"
      ],
      "text/plain": [
       "    ad_id        Creation_time  Ad_account_id Commodity_id  Commodity_type  \\\n",
       "0  233649  2018-09-29 19:52:16          25681         7356              13   \n",
       "1  547531  2019-02-21 14:37:00          20696           -1               1   \n",
       "2  707841  2019-03-06 15:37:37           3968           -1               3   \n",
       "3  733436  2019-03-19 14:37:06          22405        31722               5   \n",
       "4  249105  2019-03-15 17:23:16          11360        29999              18   \n",
       "\n",
       "  Ad_Industry_Id Ad_material_size  \n",
       "0            136                1  \n",
       "1            186               40  \n",
       "2            186               40  \n",
       "3            117               64  \n",
       "4            145               44  "
      ]
     },
     "execution_count": 4,
     "metadata": {},
     "output_type": "execute_result"
    }
   ],
   "source": [
    "# 清洗ad_static_feature数据\n",
    "\n",
    "# 删除素材尺寸为空的数据\n",
    "ad_static_feature_df = ad_static_feature_df.dropna()\n",
    "# 删除创建时间为0的数据\n",
    "ad_static_feature_df = ad_static_feature_df[~ad_static_feature_df['Creation_time'].isin([0])]\n",
    "# 将时间戳改为时间\n",
    "ad_static_feature_df['Creation_time'] = ad_static_feature_df['Creation_time'].apply(lambda x:time.strftime(\"%Y-%m-%d %H:%M:%S\",time.localtime(x))) \n",
    "# 删除广告行业id出现多值数据\n",
    "ad_static_feature_df = ad_static_feature_df[~ad_static_feature_df['Ad_Industry_Id'].str.contains(',')]\n",
    "# 重置索引\n",
    "ad_static_feature_df = ad_static_feature_df.reset_index(drop=True)\n",
    "ad_static_feature_df.head()"
   ]
  },
  {
   "cell_type": "code",
   "execution_count": 5,
   "metadata": {},
   "outputs": [
    {
     "name": "stdout",
     "output_type": "stream",
     "text": [
      "<class 'pandas.core.frame.DataFrame'>\n",
      "RangeIndex: 497669 entries, 0 to 497668\n",
      "Data columns (total 7 columns):\n",
      "ad_id               497669 non-null int64\n",
      "Creation_time       497669 non-null object\n",
      "Ad_account_id       497669 non-null int64\n",
      "Commodity_id        497669 non-null object\n",
      "Commodity_type      497669 non-null int64\n",
      "Ad_Industry_Id      497669 non-null object\n",
      "Ad_material_size    497669 non-null object\n",
      "dtypes: int64(3), object(4)\n",
      "memory usage: 26.6+ MB\n"
     ]
    }
   ],
   "source": [
    "ad_static_feature_df.info()"
   ]
  },
  {
   "cell_type": "code",
   "execution_count": 6,
   "metadata": {},
   "outputs": [],
   "source": [
    "ad_static_feature_df.to_csv('ad_static_feature.csv', index=False)"
   ]
  },
  {
   "cell_type": "code",
   "execution_count": null,
   "metadata": {},
   "outputs": [],
   "source": []
  }
 ],
 "metadata": {
  "kernelspec": {
   "display_name": "Python 3",
   "language": "python",
   "name": "python3"
  },
  "language_info": {
   "codemirror_mode": {
    "name": "ipython",
    "version": 3
   },
   "file_extension": ".py",
   "mimetype": "text/x-python",
   "name": "python",
   "nbconvert_exporter": "python",
   "pygments_lexer": "ipython3",
   "version": "3.6.5"
  }
 },
 "nbformat": 4,
 "nbformat_minor": 2
}
