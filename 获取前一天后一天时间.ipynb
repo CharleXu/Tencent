{
 "cells": [
  {
   "cell_type": "code",
   "execution_count": 11,
   "metadata": {},
   "outputs": [],
   "source": [
    "import pandas as pd"
   ]
  },
  {
   "cell_type": "code",
   "execution_count": 43,
   "metadata": {},
   "outputs": [
    {
     "data": {
      "text/html": [
       "<div>\n",
       "<style scoped>\n",
       "    .dataframe tbody tr th:only-of-type {\n",
       "        vertical-align: middle;\n",
       "    }\n",
       "\n",
       "    .dataframe tbody tr th {\n",
       "        vertical-align: top;\n",
       "    }\n",
       "\n",
       "    .dataframe thead th {\n",
       "        text-align: right;\n",
       "    }\n",
       "</style>\n",
       "<table border=\"1\" class=\"dataframe\">\n",
       "  <thead>\n",
       "    <tr style=\"text-align: right;\">\n",
       "      <th></th>\n",
       "      <th>时间戳</th>\n",
       "      <th>当日日期</th>\n",
       "      <th>前一天日期</th>\n",
       "      <th>次日日期</th>\n",
       "    </tr>\n",
       "  </thead>\n",
       "  <tbody>\n",
       "    <tr>\n",
       "      <th>0</th>\n",
       "      <td>1298995200</td>\n",
       "      <td>2011-03-01</td>\n",
       "      <td>2011-02-28</td>\n",
       "      <td>2011-03-02</td>\n",
       "    </tr>\n",
       "    <tr>\n",
       "      <th>1</th>\n",
       "      <td>1301587200</td>\n",
       "      <td>2011-03-31</td>\n",
       "      <td>2011-03-30</td>\n",
       "      <td>2011-04-01</td>\n",
       "    </tr>\n",
       "  </tbody>\n",
       "</table>\n",
       "</div>"
      ],
      "text/plain": [
       "          时间戳        当日日期       前一天日期        次日日期\n",
       "0  1298995200  2011-03-01  2011-02-28  2011-03-02\n",
       "1  1301587200  2011-03-31  2011-03-30  2011-04-01"
      ]
     },
     "execution_count": 43,
     "metadata": {},
     "output_type": "execute_result"
    }
   ],
   "source": [
    "import pandas as pd\n",
    "import time,datetime\n",
    "df=pd.DataFrame({\"时间戳\":[1298995200,1301587200]})\n",
    "\n",
    "##时间戳(1529648412)列→(2018-06-22 06:20:12)\n",
    "df['时间']=pd.to_datetime(df['时间戳'],unit='s') #→(2018-06-22 06:20:12)\n",
    "\n",
    "##(2018-06-22 06:20:12) → (2018-06-22)\n",
    "df=df.set_index('时间')    #把时间设置为索引（为了转化）\n",
    "df[\"当日日期\"]=df.index.date  #转化为当日日期(2018-06-22)\n",
    "df=df.reset_index()\n",
    "\n",
    "################(2018-06-22) → 年 月 日 → （20180622）\n",
    "df[\"年\"]=df[\"当日日期\"].map(str).str[0:4]\n",
    "df[\"月\"]=df[\"当日日期\"].map(str).str[5:7]\n",
    "df[\"日\"]=df[\"当日日期\"].map(str).str[8:]\n",
    "df[\"日期\"]=df[\"年\"]+df[\"月\"]+df[\"日\"]\n",
    "\n",
    "from datetime import datetime\n",
    "###########任意时间格式→时间戳\n",
    "def time2stamp(cmnttime):   \n",
    "    cmnttime=datetime.strptime(cmnttime,'%Y%m%d')#这里可以更改任意格式：'%Y-%m-%d %H:%M:%S'\n",
    "    stamp=int(datetime.timestamp(cmnttime))\n",
    "    return stamp\n",
    "df['前一天16点时间戳']=df['日期'].apply(time2stamp)\n",
    "\n",
    "###########################检查时间戳对应的时间\n",
    "df['时间2']=pd.to_datetime(df['前一天16点时间戳'],unit='s')\n",
    "\n",
    "df=df.set_index('时间2')    #把时间设置为索引（为了转化）\n",
    "df[\"前一天日期\"]=df.index.date  #转化为日期(2018-06-22)\n",
    "df=df.reset_index()\n",
    "df.head() \n",
    "\n",
    "##############给时间戳增减一天对应的数量（86400）\n",
    "df[['后一天16点时间戳']]=df.loc[:, ['前一天16点时间戳']] +86400*2\n",
    "###########################检查时间戳对应的时间\n",
    "df['时间3']=pd.to_datetime(df['后一天16点时间戳'],unit='s')\n",
    "df.head(2)\n",
    "\n",
    "df=df.set_index('时间3')    #把时间设置为索引（为了转化）\n",
    "df[\"次日日期\"]=df.index.date  #转化为日期(2018-06-22)\n",
    "df=df.reset_index()\n",
    "df.head() \n",
    "\n",
    "###############减少一些不必要的列###############\n",
    "df=df[['时间戳', '当日日期','前一天日期','次日日期']]\n",
    "df"
   ]
  },
  {
   "cell_type": "code",
   "execution_count": null,
   "metadata": {},
   "outputs": [],
   "source": []
  }
 ],
 "metadata": {
  "kernelspec": {
   "display_name": "Python 3",
   "language": "python",
   "name": "python3"
  },
  "language_info": {
   "codemirror_mode": {
    "name": "ipython",
    "version": 3
   },
   "file_extension": ".py",
   "mimetype": "text/x-python",
   "name": "python",
   "nbconvert_exporter": "python",
   "pygments_lexer": "ipython3",
   "version": "3.6.5"
  }
 },
 "nbformat": 4,
 "nbformat_minor": 2
}
