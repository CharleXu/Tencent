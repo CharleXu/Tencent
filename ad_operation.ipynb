{
 "cells": [
  {
   "cell_type": "code",
   "execution_count": 2,
   "metadata": {},
   "outputs": [],
   "source": [
    "import warnings\n",
    "warnings.simplefilter(action='ignore', category=FutureWarning)\n",
    "import time\n",
    "import numpy as np\n",
    "import pandas as pd\n",
    "from pandas import Series,DataFrame\n",
    "import seaborn as sns\n",
    "sns.set_style('whitegrid')\n",
    "import matplotlib.pyplot as plt\n",
    "%matplotlib inline\n"
   ]
  },
  {
   "cell_type": "code",
   "execution_count": 5,
   "metadata": {},
   "outputs": [
    {
     "name": "stdout",
     "output_type": "stream",
     "text": [
      "<class 'pandas.core.frame.DataFrame'>\n",
      "RangeIndex: 497669 entries, 0 to 497668\n",
      "Data columns (total 7 columns):\n",
      "ad_id               497669 non-null int64\n",
      "Creation_time       497669 non-null object\n",
      "Ad_account_id       497669 non-null int64\n",
      "Commodity_id        497669 non-null object\n",
      "Commodity_type      497669 non-null int64\n",
      "Ad_Industry_Id      497669 non-null int64\n",
      "Ad_material_size    497669 non-null object\n",
      "dtypes: int64(4), object(3)\n",
      "memory usage: 26.6+ MB\n"
     ]
    },
    {
     "name": "stderr",
     "output_type": "stream",
     "text": [
      "C:\\Users\\USER\\Anaconda3\\lib\\site-packages\\IPython\\core\\interactiveshell.py:2785: DtypeWarning: Columns (3,6) have mixed types. Specify dtype option on import or set low_memory=False.\n",
      "  interactivity=interactivity, compiler=compiler, result=result)\n"
     ]
    }
   ],
   "source": [
    "# 加载ad_static_feature数据\n",
    "ad_static_feature = pd.read_csv('ad_static_feature.csv')\n",
    "ad_static_feature_df.info()"
   ]
  },
  {
   "cell_type": "code",
   "execution_count": 6,
   "metadata": {},
   "outputs": [
    {
     "data": {
      "text/html": [
       "<div>\n",
       "<style scoped>\n",
       "    .dataframe tbody tr th:only-of-type {\n",
       "        vertical-align: middle;\n",
       "    }\n",
       "\n",
       "    .dataframe tbody tr th {\n",
       "        vertical-align: top;\n",
       "    }\n",
       "\n",
       "    .dataframe thead th {\n",
       "        text-align: right;\n",
       "    }\n",
       "</style>\n",
       "<table border=\"1\" class=\"dataframe\">\n",
       "  <thead>\n",
       "    <tr style=\"text-align: right;\">\n",
       "      <th></th>\n",
       "      <th>ad_id</th>\n",
       "      <th>Create_modify_time</th>\n",
       "      <th>Op_type</th>\n",
       "      <th>Modify_type</th>\n",
       "      <th>Op_after</th>\n",
       "    </tr>\n",
       "  </thead>\n",
       "  <tbody>\n",
       "    <tr>\n",
       "      <th>0</th>\n",
       "      <td>593323</td>\n",
       "      <td>0</td>\n",
       "      <td>2</td>\n",
       "      <td>2</td>\n",
       "      <td>90</td>\n",
       "    </tr>\n",
       "    <tr>\n",
       "      <th>1</th>\n",
       "      <td>593323</td>\n",
       "      <td>0</td>\n",
       "      <td>2</td>\n",
       "      <td>3</td>\n",
       "      <td>all</td>\n",
       "    </tr>\n",
       "    <tr>\n",
       "      <th>2</th>\n",
       "      <td>593323</td>\n",
       "      <td>0</td>\n",
       "      <td>2</td>\n",
       "      <td>4</td>\n",
       "      <td>281474976710655,281474976710655,28147497671065...</td>\n",
       "    </tr>\n",
       "    <tr>\n",
       "      <th>3</th>\n",
       "      <td>593323</td>\n",
       "      <td>20190217000000</td>\n",
       "      <td>1</td>\n",
       "      <td>1</td>\n",
       "      <td>0</td>\n",
       "    </tr>\n",
       "    <tr>\n",
       "      <th>4</th>\n",
       "      <td>593323</td>\n",
       "      <td>20190218233855</td>\n",
       "      <td>1</td>\n",
       "      <td>2</td>\n",
       "      <td>90</td>\n",
       "    </tr>\n",
       "  </tbody>\n",
       "</table>\n",
       "</div>"
      ],
      "text/plain": [
       "    ad_id  Create_modify_time  Op_type  Modify_type  \\\n",
       "0  593323                   0        2            2   \n",
       "1  593323                   0        2            3   \n",
       "2  593323                   0        2            4   \n",
       "3  593323      20190217000000        1            1   \n",
       "4  593323      20190218233855        1            2   \n",
       "\n",
       "                                            Op_after  \n",
       "0                                                 90  \n",
       "1                                                all  \n",
       "2  281474976710655,281474976710655,28147497671065...  \n",
       "3                                                  0  \n",
       "4                                                 90  "
      ]
     },
     "execution_count": 6,
     "metadata": {},
     "output_type": "execute_result"
    }
   ],
   "source": [
    "# 读取ad_operation文件\n",
    "ad_operation_cols = ['ad_id', 'Create_modify_time', 'Op_type', 'Modify_type', 'Op_after']\n",
    "ad_operation = pd.read_table('testA/ad_operation.dat', sep='\\t', header=None,names=ad_operation_cols)\n",
    "ad_operation_df = pd.DataFrame(ad_operation)\n",
    "# 删除2月30号的无效数据\n",
    "ad_operation_df = ad_operation_df[~ad_operation_df['Create_modify_time'].isin([20190230000000])]\n",
    "ad_operation_df = ad_operation_df[~ad_operation_df['Create_modify_time'].isin([20190229000000])]\n",
    "# 重置索引\n",
    "ad_operation_df = ad_operation_df.reset_index(drop=True)\n",
    "ad_operation_df.head()"
   ]
  },
  {
   "cell_type": "code",
   "execution_count": 7,
   "metadata": {},
   "outputs": [
    {
     "name": "stdout",
     "output_type": "stream",
     "text": [
      "<class 'pandas.core.frame.DataFrame'>\n",
      "RangeIndex: 759574 entries, 0 to 759573\n",
      "Data columns (total 5 columns):\n",
      "ad_id                 759574 non-null int64\n",
      "Create_modify_time    759574 non-null int64\n",
      "Op_type               759574 non-null int64\n",
      "Modify_type           759574 non-null int64\n",
      "Op_after              759574 non-null object\n",
      "dtypes: int64(4), object(1)\n",
      "memory usage: 29.0+ MB\n"
     ]
    }
   ],
   "source": [
    "ad_operation_df.info()"
   ]
  },
  {
   "cell_type": "code",
   "execution_count": 8,
   "metadata": {},
   "outputs": [
    {
     "name": "stdout",
     "output_type": "stream",
     "text": [
      "<class 'pandas.core.frame.DataFrame'>\n",
      "Int64Index: 613409 entries, 0 to 613408\n",
      "Data columns (total 5 columns):\n",
      "ad_id                 613409 non-null int64\n",
      "Create_modify_time    613409 non-null int64\n",
      "Op_type               613409 non-null int64\n",
      "Modify_type           613409 non-null int64\n",
      "Op_after              613409 non-null object\n",
      "dtypes: int64(4), object(1)\n",
      "memory usage: 28.1+ MB\n"
     ]
    }
   ],
   "source": [
    "# 清洗数据\n",
    "# 清洗掉在ad_static_feature中不存在的广告id\n",
    "ad_operation_df = pd.merge(ad_operation_df,ad_static_feature_df.loc[:,['ad_id']],\n",
    "                           how='inner',on='ad_id')\n",
    "# 去重\n",
    "ad_operation_df.drop_duplicates(keep='first', inplace=False).reset_index(drop=True)\n",
    "ad_operation_df.info()"
   ]
  },
  {
   "cell_type": "code",
   "execution_count": 12,
   "metadata": {},
   "outputs": [],
   "source": [
    "ad_operation_df.to_csv('ad_operation.csv', index=False)"
   ]
  },
  {
   "cell_type": "code",
   "execution_count": null,
   "metadata": {},
   "outputs": [],
   "source": []
  }
 ],
 "metadata": {
  "kernelspec": {
   "display_name": "Python 3",
   "language": "python",
   "name": "python3"
  },
  "language_info": {
   "codemirror_mode": {
    "name": "ipython",
    "version": 3
   },
   "file_extension": ".py",
   "mimetype": "text/x-python",
   "name": "python",
   "nbconvert_exporter": "python",
   "pygments_lexer": "ipython3",
   "version": "3.6.5"
  }
 },
 "nbformat": 4,
 "nbformat_minor": 2
}
