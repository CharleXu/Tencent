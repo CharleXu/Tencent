{
 "cells": [
  {
   "cell_type": "code",
   "execution_count": 1,
   "metadata": {},
   "outputs": [
    {
     "name": "stdout",
     "output_type": "stream",
     "text": [
      "***********userFeature_data[0]:\n",
      " ['624218', '753', '2', '523,7589,12527,9019,14605,13489,302,6222,14214,9706,6643,1053,2360,3955,1231,8243,-1', '0', '6', '1', '2', '0', '4', '32612,34406,3413,33059,4275,4667,4561,34051,4263,34416,4653,32145,36461,6109,6396,19834,5966,17505,406,4073,29798,15153,15709,15582,2661,9627,10191,36485,6413,36486,35929,6422,35932,20005,35936,6432,36603,36066,36612,33048,33041,36083,20172,36198,20293,32580,6126,20297,36212,6112,36219,6705,30576,6708,30578,19714,6119,7430,36338,7440,20440,19853,20441,30710,35763,6850,19858,6279,19859,19861,35916,35920,7008,669,4100,4104,3438,17100,3453,3451,16482,29698,4238,3251,4248,17531,30383,3635,16332,29832,441,29834,16347,20326,20606,6301,19733,16070,16368,15758,10336,37049,25688,25160,28407,41155,28403,28990,40921,25534,12877,33953,15172,13656,6772,7366,6777,33102,3837,20777,4132,3980,34303,34180,32232,28513,17403,4092,5606,33217,28670,15747,28529,41898,28243,29123,12791,28128,28246,15745,15896,1489,9185,28450,2250,38267,9040,27475,18455,8425,28644,11543,34909,4728,26097,12251,25550,10611,26094,11701,25839,25063,11447,12675,25700,42081,42083,42087,12117,12410,12109,25965,12111,13510,40510,13527,26345,13777,13925,20400,13025,13020,13998,395,677,41071,11841,13791,27028,10026,26630,13550,30852,35657,35798,35252,20044,1297,919,13806,27163,40307,1644,3597,2959,7907,21239,24273,13660,25950,']\n",
      "***********userFeature_data[0][1]:\n",
      " 624218\n",
      "***********正在保存数据集************\n"
     ]
    }
   ],
   "source": [
    "# -*- coding: utf-8 -*-\n",
    "import pandas as pd\n",
    "userFeature_data = []\n",
    " \n",
    "user_Feature_columns = ['user_id', 'Age', 'Gender', 'Area', 'Marriage_Status', 'Education', 'Consuption_Ability', 'Device',\n",
    "                     'Work_Status', 'Connection_Type', 'Behavior']\n",
    " \n",
    "# 为数据集增加列名称 对于userFeature_data不需要对某一列的数据进行处理\n",
    "userFeature_data.append(user_Feature_columns)\n",
    "with open('testA/user_data', 'r') as f:\n",
    "    for i, line in enumerate(f):\n",
    "        # print(i, ':', line,'\\n', len(line), type(line))\n",
    "        line = line.strip().split('\\t')\n",
    "        # print(i, ':', line, type(line),'\\n', len(line))\n",
    "        # if i > 1000:\n",
    "            # break\n",
    "        userFeature_data.append(line)\n",
    "\n",
    "print(\"***********userFeature_data[0]:\\n\", userFeature_data[1])\n",
    "print(\"***********userFeature_data[0][1]:\\n\", userFeature_data[1][0])\n",
    "user_feature = pd.DataFrame(userFeature_data)\n",
    "print(\"***********正在保存数据集************\")\n",
    "user_feature.to_csv('userFeature.csv', index=False, header=False)\n",
    " \n",
    " "
   ]
  },
  {
   "cell_type": "code",
   "execution_count": null,
   "metadata": {},
   "outputs": [],
   "source": []
  }
 ],
 "metadata": {
  "kernelspec": {
   "display_name": "Python 3",
   "language": "python",
   "name": "python3"
  },
  "language_info": {
   "codemirror_mode": {
    "name": "ipython",
    "version": 3
   },
   "file_extension": ".py",
   "mimetype": "text/x-python",
   "name": "python",
   "nbconvert_exporter": "python",
   "pygments_lexer": "ipython3",
   "version": "3.6.5"
  }
 },
 "nbformat": 4,
 "nbformat_minor": 2
}
